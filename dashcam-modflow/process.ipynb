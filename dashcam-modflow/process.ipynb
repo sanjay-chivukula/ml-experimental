{
 "cells": [
  {
   "cell_type": "markdown",
   "metadata": {},
   "source": [
    "# Vechile Speed Estimation using Dashcam Data"
   ]
  },
  {
   "cell_type": "markdown",
   "metadata": {},
   "source": [
    "This is a challenge programming project created by comma.ai. The data set is provided by them."
   ]
  },
  {
   "cell_type": "markdown",
   "metadata": {},
   "source": [
    "### Imports"
   ]
  },
  {
   "cell_type": "code",
   "execution_count": 4,
   "metadata": {},
   "outputs": [
    {
     "name": "stdout",
     "output_type": "stream",
     "text": [
      "2.3.1\n"
     ]
    }
   ],
   "source": [
    "import numpy as np\n",
    "import matplotlib.pyplot as plt\n",
    "import cv2\n",
    "\n",
    "import tensorflow as tf\n",
    "\n",
    "from tensorflow import keras\n",
    "from tensorflow.keras import layers\n",
    "from tensorflow.keras.layers.experimental import preprocessing\n",
    "\n",
    "print(tf.__version__)"
   ]
  },
  {
   "cell_type": "code",
   "execution_count": null,
   "metadata": {},
   "outputs": [],
   "source": []
  },
  {
   "cell_type": "markdown",
   "metadata": {},
   "source": [
    "### Model blueprin and compilation"
   ]
  },
  {
   "cell_type": "code",
   "execution_count": 7,
   "metadata": {},
   "outputs": [],
   "source": [
    "def immo_part_model(normed_immo_signal):\n",
    "    model = keras.Sequential([\n",
    "        normed_immo_signal,\n",
    "        layers.Dense(128, activation='relu'),\n",
    "        layers.Dense(64, activation='relu'),\n",
    "        layers.Dense(64, activation='relu'),\n",
    "    ])\n",
    "    return model\n",
    "\n",
    "def full_model_compile(r_immo_signal, c_immo_signal, spped_target):\n",
    "    r_immo_part_model = immo_part_model(r_immo_signal)\n",
    "    c_immo_part_model = immo_part_model(c_immo_signal)\n",
    "    \n",
    "    concatenated_layer = tf.keras.layers.concatenate([r_immo_part_model, c_immo_part_model], axis=1)\n",
    "    \n",
    "    full_model = keras.Sequential([\n",
    "        concatenated_layer,\n",
    "        layers.Dense(32, activation='relu'),\n",
    "        layers.Dense(32, activation='relu'),\n",
    "        layers.Dense(1),\n",
    "    ])\n",
    "    \n",
    "    full_model.compile(loss='mean_squared_error',\n",
    "                       optimizer=tf.keras.optimizers.Adam(0.001))\n",
    "    return full_model"
   ]
  },
  {
   "cell_type": "markdown",
   "metadata": {},
   "source": [
    "### Main loop for training"
   ]
  },
  {
   "cell_type": "code",
   "execution_count": 8,
   "metadata": {},
   "outputs": [],
   "source": [
    "c_diff_kernel = np.array(\n",
    "    [\n",
    "        [-1, 0, 1],\n",
    "        [-1, 0, 1],\n",
    "        [-1, 0, 1],\n",
    "    ]\n",
    ")\n",
    "\n",
    "r_diff_kernel = np.array(\n",
    "    [\n",
    "        [-1, -1, -1],\n",
    "        [0, 0, 0],\n",
    "        [1, 1, 1],\n",
    "    ]\n",
    ")"
   ]
  },
  {
   "cell_type": "code",
   "execution_count": 9,
   "metadata": {},
   "outputs": [],
   "source": [
    "def immo_transform(frame):\n",
    "    blur_kernel_size = (5, 5)\n",
    "    blur_frame = cv2.GaussianBlur(frame, blur_kernel_size, 0)\n",
    "\n",
    "    r_diff_frame = cv2.filter2D(blur_frame, -1, r_diff_kernel)\n",
    "    c_diff_frame = cv2.filter2D(blur_frame, -1, c_diff_kernel)\n",
    "\n",
    "    r_diff_frame = np.abs(np.sum(r_diff_frame, axis=1).reshape((1, -1)))\n",
    "    c_diff_frame = np.abs(np.sum(c_diff_frame, axis=0).reshape((1, -1)))\n",
    "\n",
    "    # these values are not normalized and is expected by model to normalize.\n",
    "    return r_diff_frame, c_diff_frame\n"
   ]
  },
  {
   "cell_type": "code",
   "execution_count": 10,
   "metadata": {},
   "outputs": [
    {
     "name": "stdout",
     "output_type": "stream",
     "text": [
      "28.105569\n"
     ]
    },
    {
     "data": {
      "image/png": "[encoded data removed]",
      "text/plain": [
       "<Figure size 432x288 with 3 Axes>"
      ]
     },
     "metadata": {
      "needs_background": "light"
     },
     "output_type": "display_data"
    }
   ],
   "source": [
    "# matplotlib inits\\\n",
    "plt.set_cmap(\"gray\")\n",
    "r_immo_ax = plt.subplot(2, 2, 1)\n",
    "img_ax = plt.subplot(2, 2, 2)\n",
    "c_immo_ax = plt.subplot(2, 2, 4)\n",
    "\n",
    "\n",
    "path_video=\"data/train.mp4\"\n",
    "path_target=\"data/train.txt\"\n",
    "\n",
    "video_obj = cv2.VideoCapture(path_video)\n",
    "target_obj = open(path_target)\n",
    "\n",
    "\n",
    "if not video_obj.isOpened() or not target_obj:\n",
    "    print(\"Error opening file\")\n",
    "    exit(1)\n",
    "\n",
    "\n",
    "# first frame\n",
    "ret, prev_frame = video_obj.read()\n",
    "prev_frame = cv2.cvtColor(prev_frame, cv2.COLOR_BGR2GRAY)\n",
    "r_immo_prev, c_immo_prev = immo_transform(prev_frame)\n",
    "\n",
    "# first spped target\n",
    "speed = float(target_obj.readline())\n",
    "\n",
    "r_norm = preprocessing.Normalization()\n",
    "c_norm = preprocessing.Normalization()\n",
    "\n",
    "# while video_obj.isOpened():\n",
    "#     ret, curr_frame = video_obj.read()\n",
    "#     # plt.clf()\n",
    "#     if ret:\n",
    "#         curr_frame = cv2.cvtColor(curr_frame, cv2.COLOR_BGR2GRAY)\n",
    "#         r_immo_curr, c_immo_curr = immo_transform(curr_frame)\n",
    "\n",
    "#         # do processing / training\n",
    "#         r_immo = np.concatenate((r_immo_prev, r_immo_curr),\n",
    "#                                 axis=0).reshape((1, -1), order='F')\n",
    "#         c_immo = np.concatenate((c_immo_prev, c_immo_curr),\n",
    "#                                 axis=0).reshape((1, -1), order='F')\n",
    "\n",
    "#         print(r_immo.shape, c_immo.shape)\n",
    "#         # Actual training process\n",
    "\n",
    "#         r_norm.adapt(r_immo)\n",
    "#         c_norm.adapt(c_immo)\n",
    "\n",
    "#         train(r_immo, c_immo, speed)\n",
    "\n",
    "#         # swapping prev with current data\n",
    "#         prev_frame, r_immo_prev, c_immo_prev = curr_frame, r_immo_curr, c_immo_curr\n",
    "#     else:\n",
    "#         continue\n",
    "\n",
    "# plt.show()\n",
    "# video_obj.release()\n"
   ]
  },
  {
   "cell_type": "code",
   "execution_count": null,
   "metadata": {},
   "outputs": [],
   "source": []
  }
 ],
 "metadata": {
  "kernelspec": {
   "display_name": "Python 3",
   "language": "python",
   "name": "python3"
  },
  "language_info": {
   "codemirror_mode": {
    "name": "ipython",
    "version": 3
   },
   "file_extension": ".py",
   "mimetype": "text/x-python",
   "name": "python",
   "nbconvert_exporter": "python",
   "pygments_lexer": "ipython3",
   "version": "3.7.6"
  }
 },
 "nbformat": 4,
 "nbformat_minor": 4
}
